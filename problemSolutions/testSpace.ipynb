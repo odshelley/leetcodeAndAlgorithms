{
 "cells": [
  {
   "cell_type": "code",
   "execution_count": 47,
   "metadata": {},
   "outputs": [],
   "source": [
    "def solution(wins,initial):\n",
    "\n",
    "    dp   = [[None]*k for k in range(1,wins+1)] + [[None]*k for k in range(wins+1,1,-1)]\n",
    "    bets = [[None]*k for k in range(1,wins+1)] + [[None]*k for k in range(wins,1,-1)]\n",
    "    # Base Cases\n",
    "    for i in range(1,wins+1)\n",
    "        dp[-i][0]  = 2*initial\n",
    "        dp[-i][-1] = 0\n",
    "    \n",
    "    N = len(dp)\n",
    "    for i in range(wins+2,wins-1,-1):\n",
    "        for j in range(len(dp[i])):\n",
    "            if dp[i][j] == None:\n",
    "                dp[i][j] = 0.5*(dp[i+1][j]+dp[i+1][j-1])\n",
    "    for i in range(wins-1,-1,-1):\n",
    "        for j in range(len(dp[i])):\n",
    "            if dp[i][j] == None:\n",
    "                dp[i][j] = 0.5*(dp[i+1][j+1]+dp[i+1][j])\n",
    "\n",
    "    # print(bets)\n",
    "    return dp"
   ]
  },
  {
   "cell_type": "code",
   "execution_count": 50,
   "metadata": {},
   "outputs": [
    {
     "ename": "TypeError",
     "evalue": "unsupported operand type(s) for +: 'NoneType' and 'int'",
     "output_type": "error",
     "traceback": [
      "\u001b[0;31m---------------------------------------------------------------------------\u001b[0m",
      "\u001b[0;31mTypeError\u001b[0m                                 Traceback (most recent call last)",
      "Cell \u001b[0;32mIn[50], line 1\u001b[0m\n\u001b[0;32m----> 1\u001b[0m solution(\u001b[39m6\u001b[39;49m,\u001b[39m300\u001b[39;49m)\n",
      "Cell \u001b[0;32mIn[47], line 19\u001b[0m, in \u001b[0;36msolution\u001b[0;34m(wins, initial)\u001b[0m\n\u001b[1;32m     17\u001b[0m     \u001b[39mfor\u001b[39;00m j \u001b[39min\u001b[39;00m \u001b[39mrange\u001b[39m(\u001b[39mlen\u001b[39m(dp[i])):\n\u001b[1;32m     18\u001b[0m         \u001b[39mif\u001b[39;00m dp[i][j] \u001b[39m==\u001b[39m \u001b[39mNone\u001b[39;00m:\n\u001b[0;32m---> 19\u001b[0m             dp[i][j] \u001b[39m=\u001b[39m \u001b[39m0.5\u001b[39m\u001b[39m*\u001b[39m(dp[i\u001b[39m+\u001b[39;49m\u001b[39m1\u001b[39;49m][j]\u001b[39m+\u001b[39;49mdp[i\u001b[39m+\u001b[39;49m\u001b[39m1\u001b[39;49m][j\u001b[39m-\u001b[39;49m\u001b[39m1\u001b[39;49m])\n\u001b[1;32m     20\u001b[0m \u001b[39mfor\u001b[39;00m i \u001b[39min\u001b[39;00m \u001b[39mrange\u001b[39m(wins\u001b[39m-\u001b[39m\u001b[39m1\u001b[39m,\u001b[39m-\u001b[39m\u001b[39m1\u001b[39m,\u001b[39m-\u001b[39m\u001b[39m1\u001b[39m):\n\u001b[1;32m     21\u001b[0m     \u001b[39mfor\u001b[39;00m j \u001b[39min\u001b[39;00m \u001b[39mrange\u001b[39m(\u001b[39mlen\u001b[39m(dp[i])):\n",
      "\u001b[0;31mTypeError\u001b[0m: unsupported operand type(s) for +: 'NoneType' and 'int'"
     ]
    }
   ],
   "source": [
    "solution(6,300)"
   ]
  },
  {
   "cell_type": "code",
   "execution_count": null,
   "metadata": {},
   "outputs": [],
   "source": []
  }
 ],
 "metadata": {
  "kernelspec": {
   "display_name": "statisticalLearning",
   "language": "python",
   "name": "python3"
  },
  "language_info": {
   "codemirror_mode": {
    "name": "ipython",
    "version": 3
   },
   "file_extension": ".py",
   "mimetype": "text/x-python",
   "name": "python",
   "nbconvert_exporter": "python",
   "pygments_lexer": "ipython3",
   "version": "3.11.5"
  },
  "orig_nbformat": 4
 },
 "nbformat": 4,
 "nbformat_minor": 2
}
