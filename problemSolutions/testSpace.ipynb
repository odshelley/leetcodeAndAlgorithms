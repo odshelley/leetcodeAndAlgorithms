{
 "cells": [
  {
   "cell_type": "code",
   "execution_count": 2,
   "metadata": {},
   "outputs": [],
   "source": [
    "import numpy as np\n",
    "import collections\n",
    "import math"
   ]
  },
  {
   "cell_type": "code",
   "execution_count": 39,
   "metadata": {},
   "outputs": [],
   "source": [
    "from collections import defaultdict\n",
    "\n",
    "class Graph:\n",
    "    \"\"\"\n",
    "    A class to represent a graph.\n",
    "\n",
    "    ...\n",
    "\n",
    "    Attributes\n",
    "    ----------\n",
    "    vertices : int\n",
    "        number of vertices\n",
    "    directed : bool\n",
    "        stating if the graph is undirected or not\n",
    "    adjMatrix : List[List[int]]\n",
    "        adjacency matrix\n",
    "\n",
    "    Methods\n",
    "    -------\n",
    "    addEdge(u,v,w):\n",
    "        adds an edge with weight w between u and v\n",
    "    bellmanFord(src):\n",
    "        Computes the shortest distance from each vertex to  \n",
    "        src via the Bellman-Ford algorithm.\n",
    "    \"\"\"\n",
    "\n",
    "    def __init__(self, vertices: int, directed=False):\n",
    "        \"\"\"\n",
    "        Constructs all the necessary attributes for the graph object.\n",
    "\n",
    "        Parameters\n",
    "        ----------\n",
    "            vertices : int\n",
    "                number of vertices\n",
    "            directed : bool\n",
    "                stating if the graph is undirected or not\n",
    "        \"\"\"\n",
    "        self.V = vertices  # No. of vertices\n",
    "        self.graph = defaultdict(list)\n",
    "        self.d = directed # Checking if the graph is undirected or not\n",
    "\n",
    "        self.adjMatrix = []\n",
    "        for _ in range(vertices):\n",
    "            self.adjMatrix.append([0 for __ in range(vertices)])\n",
    " \n",
    "    def addEdge(self, u: int, v: int, w: float) -> None:\n",
    "        '''\n",
    "        Adds an edge between vertices.\n",
    "\n",
    "        Parameters\n",
    "        ----------\n",
    "        u : first vertex\n",
    "        u : second vertex\n",
    "        w : weighted edge between first and second vertex\n",
    "            \n",
    "        Returns\n",
    "        -------\n",
    "        None\n",
    "        '''\n",
    "\n",
    "        if self.d == False:\n",
    "            self.graph[u].append([v, w])\n",
    "            self.graph[v].append([u, w])\n",
    "            self.adjMatrix[u][v] = 1\n",
    "            self.adjMatrix[v][u] = 1\n",
    "        else:\n",
    "            self.graph[u].append([v, w])\n",
    "            self.adjMatrix[u][v] = 1\n",
    "\n",
    "    def DFSHelper(self, v = int, visited = set) -> None:\n",
    "        '''\n",
    "        Function called recursively by DFS\n",
    "\n",
    "        Parameters\n",
    "        ----------\n",
    "        v       : vertex\n",
    "        visited : set of visited vertices\n",
    "            \n",
    "        Returns\n",
    "        -------\n",
    "        None\n",
    "        '''\n",
    " \n",
    "        # Mark the current node as visited\n",
    "        visited.add(v)\n",
    " \n",
    "        # Recur for all the adjacent vertices\n",
    "        for adjacentVertex, w in self.graph[v]:\n",
    "            if adjacentVertex not in visited:\n",
    "                self.DFSHelper(adjacentVertex, visited)\n",
    "\n",
    "    def DFS(self, v: int) -> set:\n",
    "        '''\n",
    "        Function to perform DFS starting from vertex v\n",
    "\n",
    "        Parameters\n",
    "        ----------\n",
    "        v : vertex\n",
    "            \n",
    "        Returns\n",
    "        -------\n",
    "        set of vertices accessible via v\n",
    "        '''\n",
    " \n",
    "        # set for visited vertices\n",
    "        visited = set()\n",
    " \n",
    "        # Call the recursive helper function\n",
    "        self.DFSHelper(v, visited)\n",
    "\n",
    "        return visited\n",
    "    \n",
    "    def pathHelper(self, source: int, target: int, visited: list, path: list, collection: list) -> None:\n",
    "        '''\n",
    "        Function to perform DFS starting from vertex v\n",
    "\n",
    "        Parameters\n",
    "        ----------\n",
    "        source     : source vertex\n",
    "        target     : target vertex\n",
    "        visited    : list of visited vertices\n",
    "        path       : current path\n",
    "        collection : collection of paths\n",
    "            \n",
    "        Returns\n",
    "        -------\n",
    "        updates the paths from src to trgt\n",
    "        '''\n",
    " \n",
    "        visited[source]= True # Mark current node as visited \n",
    "        path.append(source) # update path\n",
    " \n",
    "        if source == target:\n",
    "            print(path)\n",
    "            collection.append(path.copy())\n",
    "            print(collection) # If source vertex is same as target, add paths to collection\n",
    "        else:\n",
    "            # Recur for all the vertices adjacent to this vertex\n",
    "            for vertex, weight in self.graph[source]:\n",
    "                if visited[vertex]== False:\n",
    "                    self.pathHelper(vertex, target, visited, path, collection)\n",
    "                     \n",
    "        path.pop() # Remove current vertex \n",
    "        visited[source]= False # mark it as unvisited\n",
    "  \n",
    "    def findPaths(self, source: int, target: int) -> list[list[int]]:\n",
    "        '''\n",
    "        Find all paths from source to target vertex\n",
    "\n",
    "        Parameters\n",
    "        ----------\n",
    "        source     : source vertex\n",
    "        target     : target vertex\n",
    "            \n",
    "        Returns\n",
    "        -------\n",
    "        list of all paths from source to target vertex\n",
    "        '''\n",
    "\n",
    "        visited =[False]*(self.V) # Mark all the vertices as not visited\n",
    "        path = [] # Create an array to store current path\n",
    "        collection = [] # Create an array to store paths\n",
    " \n",
    "        # Call helper function\n",
    "        self.pathHelper(source, target, visited, path, collection)\n",
    "\n",
    "        for path in collection:\n",
    "            print(path)\n",
    "        # print(collection)\n",
    "    \n",
    "    def bellmanFord(self, src: int) -> list[int]:\n",
    "        '''\n",
    "        Computes the shortest distance from each vertex to the \n",
    "        source vertex via the Bellman-Ford algorithm.\n",
    "\n",
    "        Parameters\n",
    "        ----------\n",
    "        u : source vertex\n",
    "            \n",
    "        Returns\n",
    "        -------\n",
    "        dist : shortest paths from each vertex to the source\n",
    "        '''\n",
    "\n",
    "        # Initialise\n",
    "        dist = [float(\"Inf\")] * self.V\n",
    "        dist[src] = 0\n",
    "\n",
    "        # Iterate\n",
    "        for _ in range(self.V - 1):\n",
    "            terminate = True\n",
    "            for vert in self.graph:\n",
    "                for adjacentVert, weightedEdge in self.graph[vert]:\n",
    "                    if dist[adjacentVert] != float(\"Inf\")\\\n",
    "                          and dist[adjacentVert] + weightedEdge < dist[vert]:\n",
    "                        terminate = False\n",
    "                        dist[vert] = dist[adjacentVert] + weightedEdge\n",
    "            if terminate == True:\n",
    "                break\n",
    "        return dist\n",
    "    \n"
   ]
  },
  {
   "cell_type": "code",
   "execution_count": 100,
   "metadata": {},
   "outputs": [
    {
     "data": {
      "text/plain": [
       "0"
      ]
     },
     "execution_count": 100,
     "metadata": {},
     "output_type": "execute_result"
    }
   ],
   "source": [
    "def solution(s1: str, s2: str) -> int:\n",
    "\n",
    "\n",
    "        def removeBackspace(string):\n",
    "            returnArray = []\n",
    "\n",
    "            for character in string:\n",
    "                if character != '#':\n",
    "                    returnArray.append(character)\n",
    "                elif returnArray:\n",
    "                    returnArray.pop()\n",
    "            return \"\".join(returnArray)\n",
    "        \n",
    "        newS1 = removeBackspace(s1)\n",
    "        newS2 = removeBackspace(s2)\n",
    "\n",
    "        return int(newS1==newS2)\n",
    "solution('aaa##cd#','acd')"
   ]
  },
  {
   "cell_type": "code",
   "execution_count": null,
   "metadata": {},
   "outputs": [],
   "source": [
    "def pokerChips():\n",
    "    chips = [10,20,30,40]\n",
    "    winning = [[None]*(2**k) for k in range(1,wins+1)]"
   ]
  },
  {
   "cell_type": "code",
   "execution_count": null,
   "metadata": {},
   "outputs": [],
   "source": [
    "def perform_operations(operations,x):\n",
    "    elements_set = set()\n",
    "    elements_list = []\n",
    "\n",
    "    for i,operation in enumerate(operations):\n",
    "        value = x[i]\n",
    "        if operation == \"push\":\n",
    "            elements_set.add(value)\n",
    "            elements_list.append(value)\n",
    "        elif operation == \"pop\":\n",
    "            elements_set.remove(value)\n",
    "            elements_list.remove(value)\n",
    "\n",
    "        max_value = max(elements_list)\n",
    "        min_value = min(elements_list)\n",
    "        product = max_value * min_value\n",
    "\n",
    "        print(f\"After {command} {value}: Max * Min = {product}\")\n",
    "\n",
    "# Example usage:\n",
    "operations = [\"push 3\", \"push 5\", \"pop 3\", \"push 10\"]\n",
    "perform_operations(operations)\n",
    "\n",
    "This script defines a function perform_operations that takes a list of operations as input, iterates through them, and updates the set and list accordingly. After each operation, it calculates the product of the maximum and minimum values and prints the result. The example usage demonstrates how to use this function with a list of operations.\n"
   ]
  },
  {
   "cell_type": "code",
   "execution_count": 43,
   "metadata": {},
   "outputs": [
    {
     "name": "stdout",
     "output_type": "stream",
     "text": [
      "deque([1]) deque([1, 1]) deque([1, 1])\n",
      "deque([1, 2]) deque([1, 1, 2]) deque([1, 1, 2])\n",
      "deque([1, 2, 3]) deque([1, 1, 2, 3]) deque([1, 1, 2, 3])\n",
      "deque([2, 3]) deque([1, 1, 2, 3]) deque([1, 1, 2, 3])\n"
     ]
    },
    {
     "data": {
      "text/plain": [
       "[1, 2, 3, 3]"
      ]
     },
     "execution_count": 43,
     "metadata": {},
     "output_type": "execute_result"
    }
   ],
   "source": [
    "\n",
    "from collections import deque as dq\n",
    "\n",
    "def solution(operations,x):\n",
    "\t\n",
    "\tMIN = dq([])\n",
    "\tMAX = dq([])\n",
    "\tQ= dq([])\n",
    "\tproducts = []\n",
    "\n",
    "\tdef push_element(element):\n",
    "\t\tif (len(Q) == 0):\n",
    "\t\t\tQ.append(element)\n",
    "\t\t\tMIN.append(element)\n",
    "\t\t\tMAX.appendleft(element)\n",
    "\t\telse:\n",
    "\t\t\tQ.append(element)\n",
    "\t\twhile (MIN and MIN[-1] > element):\n",
    "\t\t\tMIN.pop()\n",
    "\t\tMIN.append(element)\n",
    "\t\t\n",
    "\t\twhile (MAX and MAX[0] > element):\n",
    "\t\t\tprint('TRUE')\n",
    "\t\t\tMAX.popleft()\n",
    "\t\tMAX.append(element)\n",
    "\n",
    "\tdef pop(mx=False,mn=False):\n",
    "\t\tif mx == True:\n",
    "\t\t\tif (Q[-1] == MAX[-1]):\n",
    "\t\t\t\tprint('MAXPOP')\n",
    "\t\t\t\twhile MAX[-1] == Q[-1]:\n",
    "\t\t\t\t\tMAX.pop()\n",
    "\t\t\t\tQ.pop()\n",
    "\t\t\telse:\n",
    "\t\t\t\tQ.pop()\n",
    "\t\telif mn == True:\n",
    "\t\t\tif (Q[0] == MIN[0]):\n",
    "\t\t\t\twhile MIN[0] == Q[0]:\n",
    "\t\t\t\t\tMIN.popleft()\n",
    "\t\t\t\tQ.popleft()\n",
    "\t\t\telse:\n",
    "\t\t\t\tQ.popleft()\n",
    "\t\telse:\n",
    "\t\t\tQ.popleft()\n",
    "\t\t\n",
    "\n",
    "\tdef getMin():\n",
    "\t\treturn MIN[0]\n",
    "\n",
    "\tdef getMax():\n",
    "\t\treturn MAX[-1]\n",
    "\n",
    "\tfor i, operation in enumerate(operations):\n",
    "\n",
    "\t\tif operation == 'push':\n",
    "\t\t\tpush_element(x[i])\n",
    "\t\tif operation == 'pop':\n",
    "\t\t\tif x[i] == MAX[-1]:\n",
    "\t\t\t\tpop(True,False)\n",
    "\t\t\tif x[i] == MIN[0]:\n",
    "\t\t\t\tpop(False,True)\n",
    "\t\t\telse:\n",
    "\t\t\t\tpop()\n",
    "\t\t\t\n",
    "\t\tproducts.append(getMin()*getMax())\n",
    "\t\tprint(Q,MIN,MAX)\n",
    "\t\n",
    "\treturn products\n",
    "\n",
    "solution(['push','push','push','pop'],[1,2,3,2])"
   ]
  },
  {
   "cell_type": "code",
   "execution_count": 10,
   "metadata": {},
   "outputs": [
    {
     "name": "stdout",
     "output_type": "stream",
     "text": [
      "HEY!\n"
     ]
    },
    {
     "data": {
      "text/plain": [
       "[['speed'], ['duel', 'dule']]"
      ]
     },
     "execution_count": 10,
     "metadata": {},
     "output_type": "execute_result"
    }
   ],
   "source": [
    "def solution( words: list[str], queries: list[str]):\n",
    "        \n",
    "        alphabet = 'abcdefghijklmnopqrstuvwxyz'\n",
    "        alphaMap = { x:i for i,x in enumerate(alphabet)}\n",
    "\n",
    "        anagrams = {}\n",
    "\n",
    "        for word in words:\n",
    "            anagram = [0]*26\n",
    "            for letter in word:\n",
    "                anagram[alphaMap[letter]] += 1\n",
    "            anagram = tuple(anagram)\n",
    "\n",
    "            if anagram in anagrams:\n",
    "                anagrams[anagram] += [word]\n",
    "            else:\n",
    "                anagrams[anagram]  = [word]\n",
    "\n",
    "        returnArray = []\n",
    "\n",
    "        for query in queries:\n",
    "            anagram = [0]*26\n",
    "            for letter in query:\n",
    "                anagram[alphaMap[letter]] += 1\n",
    "            anagram = tuple(anagram)\n",
    "            if anagram in anagrams:\n",
    "                returnArray.append( anagrams[anagram] )\n",
    "        return returnArray\n",
    "        \n",
    "words = ['duel', 'speed', 'dule', 'cars']\n",
    "queries = ['spede', 'deul']\n",
    "solution(words,queries)"
   ]
  },
  {
   "cell_type": "code",
   "execution_count": 17,
   "metadata": {},
   "outputs": [
    {
     "data": {
      "text/plain": [
       "[1, 400000]"
      ]
     },
     "execution_count": 17,
     "metadata": {},
     "output_type": "execute_result"
    }
   ],
   "source": [
    "def solution(instructionCount: int, validityPeriod: int, keys: list[int]):\n",
    "\n",
    "        frequency = {}\n",
    "        maximum = 0\n",
    "    \n",
    "        for i in keys:\n",
    "            frequency[i] = frequency.get(i, 0) + 1\n",
    "    \n",
    "        for idx in range(len(keys)):\n",
    "\n",
    "            num = keys[idx]\n",
    "            count = 0\n",
    "    \n",
    "            # Iterate through each possible divisor of num\n",
    "            for j in range(1, int(num**(0.5)) + 1):\n",
    "                # If j is a divisor of num and present in 'keys', count it\n",
    "                if (num % j == 0):\n",
    "                    if j in frequency:\n",
    "                        count += frequency[j]\n",
    "    \n",
    "                    # If j is not equal to num/j and present in 'keys',\n",
    "                    # count num/j as well as divisors exist in pairs\n",
    "                    if j != num // j and num // j in frequency:\n",
    "                        count += frequency[num // j]\n",
    "    \n",
    "            maximum = max(count, maximum)\n",
    "    \n",
    "        hackerTime = instructionCount * validityPeriod\n",
    "    \n",
    "        if hackerTime >= maximum * 100000:\n",
    "            return [1, maximum * 100000]\n",
    "        else:\n",
    "            return [0, maximum * 100000]\n",
    "    \n",
    "solution(1000, 10000 ,[2, 4, 8, 2])"
   ]
  },
  {
   "cell_type": "code",
   "execution_count": 68,
   "metadata": {},
   "outputs": [
    {
     "data": {
      "text/plain": [
       "'a3b2c10'"
      ]
     },
     "execution_count": 68,
     "metadata": {},
     "output_type": "execute_result"
    }
   ],
   "source": [
    "def solution(S: str) -> None:\n",
    "        \n",
    "        compressionMap = {}\n",
    "        letter = -1\n",
    "        number = ''\n",
    "        end = len(S)\n",
    "\n",
    "        for i in range(end):\n",
    "\n",
    "            if S[i].isalpha():\n",
    "                letter = S[i]\n",
    "                number = ''\n",
    "\n",
    "            if S[i].isnumeric():\n",
    "                number += S[i]\n",
    "                if i + 1 == end:\n",
    "                    compressionMap[letter] = compressionMap.get(letter,0) + int(number)\n",
    "                elif S[i+1].isalpha():\n",
    "                    compressionMap[letter] = compressionMap.get(letter,0) + int(number)\n",
    "\n",
    "        returnString = ''\n",
    "        for x in sorted(compressionMap):\n",
    "            returnString += (x + str(compressionMap[x]))\n",
    "\n",
    "        return returnString\n",
    "\n",
    "solution('a3c9b2c1')"
   ]
  },
  {
   "cell_type": "code",
   "execution_count": 98,
   "metadata": {},
   "outputs": [
    {
     "data": {
      "text/plain": [
       "[False, True, True]"
      ]
     },
     "execution_count": 98,
     "metadata": {},
     "output_type": "execute_result"
    }
   ],
   "source": [
    "def solution(commands):\n",
    "\n",
    "    def loop(comms):\n",
    "\n",
    "        directions = ['u','r','d','l']\n",
    "        directionIdx = 0\n",
    "        position = [0,0]\n",
    "\n",
    "        for c in comms:\n",
    "            if c == 'G':\n",
    "                if directions[directionIdx] == 'u':\n",
    "                    position[0] += 1\n",
    "                elif directions[directionIdx] == 'd':\n",
    "                    position[0] -= 1\n",
    "                elif directions[directionIdx] == 'r':\n",
    "                    position[1] += 1\n",
    "                elif directions[directionIdx] == 'l':\n",
    "                    position[1] -= 1\n",
    "            elif c == 'R':\n",
    "                directionIdx = (directionIdx + 1)%4\n",
    "            else:\n",
    "                directionIdx = (directionIdx - 1)%4\n",
    "\n",
    "        if (directions[directionIdx] != 'u') or (position == [0,0]):\n",
    "            return True\n",
    "        else:\n",
    "            return False\n",
    "        \n",
    "    returnArray = []\n",
    "    for command in commands:\n",
    "        returnArray.append(loop(command))\n",
    "\n",
    "    return returnArray\n",
    "\n",
    "solution(['G','L','RGRG'])"
   ]
  },
  {
   "cell_type": "code",
   "execution_count": 84,
   "metadata": {},
   "outputs": [
    {
     "data": {
      "text/plain": [
       "[3, 2, 3]"
      ]
     },
     "execution_count": 84,
     "metadata": {},
     "output_type": "execute_result"
    }
   ],
   "source": [
    "def solution(simulations: list[str]) -> int:\n",
    "        \n",
    "        def chairsRequired(sim):\n",
    "            availableChairs = 0\n",
    "            purchased = 0\n",
    "\n",
    "            for situation in sim:\n",
    "\n",
    "                if situation == 'C' or situation == 'U':\n",
    "                    if availableChairs == 0:\n",
    "                        purchased += 1\n",
    "                    else:\n",
    "                        availableChairs -= 1\n",
    "\n",
    "                if situation == 'R' or situation == 'L':\n",
    "                    availableChairs = availableChairs + 1\n",
    "      \n",
    "            return purchased\n",
    "        \n",
    "        resultArray = []\n",
    "        for simulation in simulations:\n",
    "            resultArray.append(chairsRequired(simulation))\n",
    "\n",
    "        return resultArray\n",
    "             \n",
    "solution(['CCRUCL','CRUC','CCC'])"
   ]
  },
  {
   "cell_type": "code",
   "execution_count": 85,
   "metadata": {},
   "outputs": [
    {
     "data": {
      "text/plain": [
       "[1, 0, 0, 1]"
      ]
     },
     "execution_count": 85,
     "metadata": {},
     "output_type": "execute_result"
    }
   ],
   "source": [
    "[1,0] + [0,1]"
   ]
  },
  {
   "cell_type": "code",
   "execution_count": 26,
   "metadata": {},
   "outputs": [
    {
     "data": {
      "text/plain": [
       "['1974-03-01', '2013-01-22', '1904-04-07']"
      ]
     },
     "execution_count": 26,
     "metadata": {},
     "output_type": "execute_result"
    }
   ],
   "source": [
    "def solution(dates: list[str]) :\n",
    "\n",
    "        monthMap = {\n",
    "            'Jan' :'01',\n",
    "            'Feb':'02',\n",
    "            'Mar':'03',\n",
    "            'Apr':'04',\n",
    "            'May':'05',\n",
    "            'Jun':'06',\n",
    "            'Jul':'07',\n",
    "            'Aug':'08',\n",
    "            'Sep':'09',\n",
    "            'Oct':'10',\n",
    "            'Nov':'11',\n",
    "            'Dec':'12'\n",
    "        }\n",
    "\n",
    "        newDates = []\n",
    "\n",
    "        for date in dates:\n",
    "            newDate = date.split()\n",
    "\n",
    "            day = ['0','0']\n",
    "            for i,character in enumerate(newDate[0][:2]):\n",
    "                if character.isnumeric():\n",
    "                    day[1-i] = character\n",
    "            day = ''.join(day)\n",
    "\n",
    "            month = monthMap[newDate[1]]\n",
    "            year = newDate[2]\n",
    "\n",
    "            newDate = year + '-' + month + '-' + day\n",
    "            newDates.append(newDate)\n",
    "\n",
    "        return newDates\n",
    "solution(['1st Mar 1974','22nd Jan 2013','7th Apr 1904'])"
   ]
  },
  {
   "cell_type": "code",
   "execution_count": 41,
   "metadata": {},
   "outputs": [
    {
     "name": "stdout",
     "output_type": "stream",
     "text": [
      "[1, 2, 3, 4, 5]\n"
     ]
    },
    {
     "data": {
      "text/plain": [
       "3"
      ]
     },
     "execution_count": 41,
     "metadata": {},
     "output_type": "execute_result"
    }
   ],
   "source": [
    "def solution(projectCosts: list[int], target:int) -> int:\n",
    "\n",
    "        \n",
    "        def binarySearch(arr, low, high, trgt):\n",
    "            if (high >= low):\n",
    "                mid = (high + low)//2\n",
    "                if trgt == arr[mid]:\n",
    "                    return mid\n",
    "                elif(trgt > arr[mid]):\n",
    "                    return binarySearch(arr, (mid + 1), high, trgt)\n",
    "                else:\n",
    "                    return binarySearch(arr, low, (mid - 1), trgt)\n",
    "            return -1\n",
    "        \n",
    "        count = 0 \n",
    "        projectCosts.sort()\n",
    "        print(projectCosts)\n",
    "\n",
    "        n = len(projectCosts)\n",
    "        pointer = 0\n",
    "\n",
    "        while pointer < n-1:\n",
    "            if ( pointer < n-2 ) and ( projectCosts[pointer] == projectCosts[pointer+1] ):\n",
    "                pointer += 1\n",
    "            else:\n",
    "                flag = binarySearch(projectCosts, pointer, n-1, target + projectCosts[pointer])\n",
    "                if flag != -1:\n",
    "                    count += 1\n",
    "                else:\n",
    "                    pass\n",
    "                pointer += 1 \n",
    "\n",
    "        return count\n",
    "\n",
    "solution([1,5,3,4,2],2)"
   ]
  },
  {
   "cell_type": "code",
   "execution_count": 59,
   "metadata": {},
   "outputs": [
    {
     "data": {
      "text/plain": [
       "6"
      ]
     },
     "execution_count": 59,
     "metadata": {},
     "output_type": "execute_result"
    }
   ],
   "source": [
    "def solution(precedingMinutes: int, alertThreshold: int, numCalls: list[int]) -> int:\n",
    "\n",
    "    count = 0\n",
    "    avg = 0\n",
    "    for i in range(precedingMinutes):\n",
    "        avg += numCalls[i]/precedingMinutes\n",
    "    if avg > alertThreshold:\n",
    "        count += 1 \n",
    "    \n",
    "    start = 0\n",
    "    end = precedingMinutes\n",
    "\n",
    "    while end < len(numCalls):\n",
    "        avg = avg + (numCalls[end]-numCalls[start])/precedingMinutes\n",
    "        if avg > alertThreshold:\n",
    "            count += 1 \n",
    "        start += 1\n",
    "        end += 1\n",
    "        \n",
    "    \n",
    "    return count\n",
    "\n",
    "solution(3,3,[2, 7, 2, 2, 5, 5, 5, 8, 9])"
   ]
  },
  {
   "cell_type": "code",
   "execution_count": 62,
   "metadata": {},
   "outputs": [
    {
     "data": {
      "text/plain": [
       "0"
      ]
     },
     "execution_count": 62,
     "metadata": {},
     "output_type": "execute_result"
    }
   ],
   "source": [
    "def solution(s1: str, s2: str) -> int:\n",
    "\n",
    "        def removeBackspace(string):\n",
    "            backspace = 0\n",
    "            newString = ''\n",
    "\n",
    "            for x in string[::-1]:\n",
    "                if x == '#':\n",
    "                    backspace += 1\n",
    "                elif backspace > 0:\n",
    "                    backspace -= 1\n",
    "                else:\n",
    "                    newString += x\n",
    "\n",
    "            return newString\n",
    "        \n",
    "        newS1 = removeBackspace(s1)\n",
    "        newS2 = removeBackspace(s2)\n",
    "\n",
    "        return int(newS1==newS2)\n",
    "\n",
    "solution('axx#bb#c','axbd#c#c')"
   ]
  },
  {
   "cell_type": "code",
   "execution_count": 15,
   "metadata": {},
   "outputs": [
    {
     "name": "stdout",
     "output_type": "stream",
     "text": [
      "p False\n",
      "q False\n"
     ]
    },
    {
     "data": {
      "text/plain": [
       "4"
      ]
     },
     "execution_count": 15,
     "metadata": {},
     "output_type": "execute_result"
    }
   ],
   "source": [
    "def solution(x1, y1, x2, y2, x3, y3, xp, yp, xq, yq):\n",
    "    \n",
    "    def degenerate(a1,b1,a2,b2,a3,b3):\n",
    "\n",
    "        ab = abs( (a1-a2)**2 + (b1-b2)**2 )**(.5)\n",
    "        ac = abs( (a1-a3)**2 + (b1-b3)**2 )**(.5)\n",
    "        bc = abs( (a2-a3)**2 + (b2-b3)**2 )**(.5)\n",
    "\n",
    "        if (ab + bc <= ac) or (ab + ac <= bc) or (ac + bc <= ab):\n",
    "            return True\n",
    "    \n",
    "    if degenerate(x1,y1,x2,y2,x3,y3):\n",
    "        return 0\n",
    "    \n",
    "    def area(a1, b1, a2, b2, a3, b3):\n",
    "        return abs((a1 * (b2 - b3) + a2 * (b3 - b1) + a3 * (b1 - b2)) / 2.0)\n",
    "    \n",
    "    \n",
    "    def isInside(a1, b1, a2, b2, a3, b3, x, y):\n",
    "    \n",
    "        # Calculate area of triangle ABC\n",
    "        A = area (a1, b1, a2, b2, a3, b3)\n",
    "    \n",
    "        # Calculate area of triangle PBC \n",
    "        A1 = area (x, y, a2, b2, a3, b3)\n",
    "        \n",
    "        # Calculate area of triangle PAC \n",
    "        A2 = area (a1, b1, x, y, a3, b3)\n",
    "        \n",
    "        # Calculate area of triangle PAB \n",
    "        A3 = area (a1, b1, a2, b2, x, y)\n",
    "        \n",
    "        # Check if sum of A1, A2 and A3 \n",
    "        # is same as A\n",
    "        if(A == A1 + A2 + A3):\n",
    "            return True\n",
    "        else:\n",
    "            return False\n",
    "    \n",
    "    pInside = isInside(x1, y1, x2, y2, x3, y3, xp, yp)\n",
    "    qInside = isInside(x1, y1, x2, y2, x3, y3, xq, yq)\n",
    "\n",
    "\n",
    "    if pInside and qInside:\n",
    "        return 3\n",
    "    elif pInside:\n",
    "        return 1\n",
    "    elif qInside:\n",
    "        return 2\n",
    "    else:\n",
    "        return 4\n",
    "    \n",
    "solution(3,1,7,1,5,5,3,100,0,100)"
   ]
  },
  {
   "cell_type": "code",
   "execution_count": 23,
   "metadata": {},
   "outputs": [
    {
     "data": {
      "text/plain": [
       "False"
      ]
     },
     "execution_count": 23,
     "metadata": {},
     "output_type": "execute_result"
    }
   ],
   "source": [
    "def isPalindrome(t):\n",
    "        st = 0\n",
    "        ed = len(t)-1\n",
    "        while st < ed:\n",
    "            if t[st] != t[ed]:\n",
    "                return False\n",
    "            st += 1\n",
    "            ed -= 1\n",
    "        return True\n",
    "isPalindrome('kghhh3gk')"
   ]
  },
  {
   "cell_type": "code",
   "execution_count": 11,
   "metadata": {},
   "outputs": [
    {
     "data": {
      "text/plain": [
       "[(6, 1), (2, 1), (4, 2)]"
      ]
     },
     "execution_count": 11,
     "metadata": {},
     "output_type": "execute_result"
    }
   ],
   "source": [
    "c = collections.Counter([1,1,1,1,1,1,2,3,3,4,4,5,5,5,6])\n",
    "c.most_common()[:-3-1:-1]\n"
   ]
  },
  {
   "cell_type": "code",
   "execution_count": 13,
   "metadata": {},
   "outputs": [
    {
     "data": {
      "text/plain": [
       "{'a', 'b', 'c'}"
      ]
     },
     "execution_count": 13,
     "metadata": {},
     "output_type": "execute_result"
    }
   ],
   "source": [
    "set('abc'.lower())"
   ]
  },
  {
   "cell_type": "code",
   "execution_count": 85,
   "metadata": {},
   "outputs": [],
   "source": [
    "def solution(letters):\n",
    "    \n",
    "    letterDict = {}\n",
    "    for x in letters:\n",
    "        if x not in letterDict:\n",
    "            letterDict[x] = 1\n",
    "        else:\n",
    "            letterDict[x] += 1\n",
    "    letterSet = set(letters.lower())\n",
    "    print(letterDict)\n",
    "\n",
    "    count = 0\n",
    "    for letter in letterSet:\n",
    "        print(letter)\n",
    "        if letterDict[letter] == letterDict[letter.capitalize()]:\n",
    "            count += 1\n",
    "            \n",
    "    return count "
   ]
  },
  {
   "cell_type": "code",
   "execution_count": 86,
   "metadata": {},
   "outputs": [
    {
     "name": "stdout",
     "output_type": "stream",
     "text": [
      "{'a': 1, 'A': 1, 'b': 1, 'B': 1, 'c': 3, 'C': 1}\n",
      "c\n",
      "a\n",
      "b\n"
     ]
    },
    {
     "data": {
      "text/plain": [
       "2"
      ]
     },
     "execution_count": 86,
     "metadata": {},
     "output_type": "execute_result"
    }
   ],
   "source": [
    "solution('aAbBcCcc')"
   ]
  },
  {
   "cell_type": "code",
   "execution_count": 146,
   "metadata": {},
   "outputs": [],
   "source": [
    "def solution(letters):\n",
    "\n",
    "    N = len(letters)\n",
    "    p1 = 0\n",
    "    total = 0\n",
    "\n",
    "    while p1 < len(letters):\n",
    "\n",
    "        if letters[p1].isupper():\n",
    "            # current position of upper case letter\n",
    "            currentUpper = p1 \n",
    "            # move p1 to the next lower case letter or the end of letters\n",
    "            while p1 < N and letters[p1].isupper():\n",
    "                p1 += 1\n",
    "            # the length of the substring of uppercase letters\n",
    "            amount = p1 - currentUpper \n",
    "\n",
    "            count = 0\n",
    "            p2 = currentUpper\n",
    "\n",
    "            for idx in range(max(0,currentUpper-amount),currentUpper):\n",
    "                # if the letter 'amount' steps behind letter[p2] is letter[p2].lower()\n",
    "                # we update the counter and move p2 to the next position\n",
    "                if letters[idx] == letters[p2].lower():\n",
    "                    count += 1\n",
    "                    p2 += 1\n",
    "                # if the letter 'amount' steps behind letter[p2] is not letter[p2].lower()\n",
    "                # we set the counter back to zero and move p2 back to position currentUpper\n",
    "                else:\n",
    "                    p2 = currentUpper\n",
    "                    count = 0\n",
    "            # We update the total \n",
    "            total += count\n",
    "\n",
    "        p1 += 1\n",
    "\n",
    "    return total "
   ]
  },
  {
   "cell_type": "code",
   "execution_count": 150,
   "metadata": {},
   "outputs": [
    {
     "data": {
      "text/plain": [
       "2"
      ]
     },
     "execution_count": 150,
     "metadata": {},
     "output_type": "execute_result"
    }
   ],
   "source": [
    "solution('abGcABCXaaAAAv')\n"
   ]
  },
  {
   "cell_type": "code",
   "execution_count": null,
   "metadata": {},
   "outputs": [],
   "source": [
    "def solution(letters):\n",
    "\n",
    "    N = len(letters)\n",
    "    p1 = 0\n",
    "    total = 0\n",
    "\n",
    "    while p1 < len(letters):\n",
    "\n",
    "        if letters[p1].isupper():\n",
    "            currentUpper = p1 \n",
    "            while p1 < N and letters[p1].isupper():\n",
    "                p1 += 1\n",
    "\n",
    "            amount = p1 - currentUpper \n",
    "            p2 = currentUpper\n",
    "            count = 0\n",
    "\n",
    "            for idx in range(max(0,currentUpper-amount),currentUpper):\n",
    "                if letters[idx] == letters[p2].lower():\n",
    "                    count += 1\n",
    "                    p2 += 1\n",
    "                else:\n",
    "                    p2 = currentUpper\n",
    "                    count = 0\n",
    "                    \n",
    "            total += count\n",
    "\n",
    "        p1 += 1\n",
    "\n",
    "    return total "
   ]
  },
  {
   "cell_type": "code",
   "execution_count": 81,
   "metadata": {},
   "outputs": [],
   "source": [
    "def solution(letters):\n",
    "    \n",
    "    lowerCase = []\n",
    "    upperCase = []\n",
    "    count = 0\n",
    "    \n",
    "    for i,x in enumerate(letters):\n",
    "        if x.islower():\n",
    "            lowerCase.append(x)\n",
    "        if x.isupper():\n",
    "            upperCase.append(x)\n",
    "        if letters[i].isupper() and letters[i+1].islower():\n",
    "            lowerCase = lowerCase[len(lower)]\n",
    "            for j in range(len(upperCase)):\n",
    "                if lowerCase[j] == upperCase[j]:\n",
    "                    count += 1\n",
    "            lowerCase = []\n",
    "            upperCase = []\n",
    "    \n",
    "    return count"
   ]
  },
  {
   "cell_type": "code",
   "execution_count": 82,
   "metadata": {},
   "outputs": [
    {
     "ename": "IndexError",
     "evalue": "list index out of range",
     "output_type": "error",
     "traceback": [
      "\u001b[0;31m---------------------------------------------------------------------------\u001b[0m",
      "\u001b[0;31mIndexError\u001b[0m                                Traceback (most recent call last)",
      "\u001b[0;32m/var/folders/pr/17s5kwdj30zgkzxjrjrpr8fm0000gn/T/ipykernel_67239/1847024963.py\u001b[0m in \u001b[0;36m<module>\u001b[0;34m\u001b[0m\n\u001b[0;32m----> 1\u001b[0;31m \u001b[0msolution\u001b[0m\u001b[0;34m(\u001b[0m \u001b[0;34m'aaAbcCABBc'\u001b[0m\u001b[0;34m)\u001b[0m\u001b[0;34m\u001b[0m\u001b[0;34m\u001b[0m\u001b[0m\n\u001b[0m",
      "\u001b[0;32m/var/folders/pr/17s5kwdj30zgkzxjrjrpr8fm0000gn/T/ipykernel_67239/729628153.py\u001b[0m in \u001b[0;36msolution\u001b[0;34m(letters)\u001b[0m\n\u001b[1;32m     13\u001b[0m \u001b[0;34m\u001b[0m\u001b[0m\n\u001b[1;32m     14\u001b[0m             \u001b[0;32mfor\u001b[0m \u001b[0mj\u001b[0m \u001b[0;32min\u001b[0m \u001b[0mrange\u001b[0m\u001b[0;34m(\u001b[0m\u001b[0mlen\u001b[0m\u001b[0;34m(\u001b[0m\u001b[0mupperCase\u001b[0m\u001b[0;34m)\u001b[0m\u001b[0;34m)\u001b[0m\u001b[0;34m:\u001b[0m\u001b[0;34m\u001b[0m\u001b[0;34m\u001b[0m\u001b[0m\n\u001b[0;32m---> 15\u001b[0;31m                 \u001b[0;32mif\u001b[0m \u001b[0mlowerCase\u001b[0m\u001b[0;34m[\u001b[0m\u001b[0mj\u001b[0m\u001b[0;34m]\u001b[0m \u001b[0;34m==\u001b[0m \u001b[0mupperCase\u001b[0m\u001b[0;34m[\u001b[0m\u001b[0mj\u001b[0m\u001b[0;34m]\u001b[0m\u001b[0;34m:\u001b[0m\u001b[0;34m\u001b[0m\u001b[0;34m\u001b[0m\u001b[0m\n\u001b[0m\u001b[1;32m     16\u001b[0m                     \u001b[0mcount\u001b[0m \u001b[0;34m+=\u001b[0m \u001b[0;36m1\u001b[0m\u001b[0;34m\u001b[0m\u001b[0;34m\u001b[0m\u001b[0m\n\u001b[1;32m     17\u001b[0m             \u001b[0mlowerCase\u001b[0m \u001b[0;34m=\u001b[0m \u001b[0;34m[\u001b[0m\u001b[0;34m]\u001b[0m\u001b[0;34m\u001b[0m\u001b[0;34m\u001b[0m\u001b[0m\n",
      "\u001b[0;31mIndexError\u001b[0m: list index out of range"
     ]
    }
   ],
   "source": [
    "solution( 'aaAbcCABBc')"
   ]
  },
  {
   "cell_type": "code",
   "execution_count": null,
   "metadata": {},
   "outputs": [],
   "source": []
  }
 ],
 "metadata": {
  "kernelspec": {
   "display_name": "statisticalLearning",
   "language": "python",
   "name": "python3"
  },
  "language_info": {
   "codemirror_mode": {
    "name": "ipython",
    "version": 3
   },
   "file_extension": ".py",
   "mimetype": "text/x-python",
   "name": "python",
   "nbconvert_exporter": "python",
   "pygments_lexer": "ipython3",
   "version": "3.9.13"
  },
  "orig_nbformat": 4
 },
 "nbformat": 4,
 "nbformat_minor": 2
}
