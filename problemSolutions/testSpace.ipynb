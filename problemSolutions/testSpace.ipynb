{
 "cells": [
  {
   "cell_type": "code",
   "execution_count": 24,
   "metadata": {},
   "outputs": [],
   "source": [
    "import functools\n",
    "\n",
    "class Graph:\n",
    "    \"\"\"\n",
    "    A class to represent a graph.\n",
    "\n",
    "    ...\n",
    "\n",
    "    Attributes\n",
    "    ----------\n",
    "    vertices : int\n",
    "        number of vertices\n",
    "    directed : bool\n",
    "        stating if the graph is undirected or not\n",
    "    adjMatrix : List[List[int]]\n",
    "        adjacency matrix\n",
    "\n",
    "    Methods\n",
    "    -------\n",
    "    addEdge(u,v,w):\n",
    "        adds an edge with weight w between u and v\n",
    "    bellmanFord(src):\n",
    "        Computes the shortest distance from each vertex to  \n",
    "        src via the Bellman-Ford algorithm.\n",
    "    \"\"\"\n",
    "\n",
    "    def __init__(self, vertices, directed=False):\n",
    "        \"\"\"\n",
    "        Constructs all the necessary attributes for the graph object.\n",
    "\n",
    "        Parameters\n",
    "        ----------\n",
    "            vertices : int\n",
    "                number of vertices\n",
    "            directed : bool\n",
    "                stating if the graph is undirected or not\n",
    "        \"\"\"\n",
    "        self.V = vertices  # No. of vertices\n",
    "        self.graph = []\n",
    "        self.d = directed # Checking if the graph is undirected or not\n",
    "\n",
    "        self.adjMatrix = []\n",
    "        for _ in range(vertices):\n",
    "            self.adjMatrix.append([0 for __ in range(vertices)])\n",
    " \n",
    "    def addEdge(self, u, v, w):\n",
    "        '''\n",
    "        Adds an edge between vertices.\n",
    "\n",
    "        Parameters\n",
    "        ----------\n",
    "        u : int, first vertex\n",
    "        u : int, second vertex\n",
    "        w : float, weighted edge between first and second vertex\n",
    "            \n",
    "        Returns\n",
    "        -------\n",
    "        None\n",
    "        '''\n",
    "\n",
    "        if self.d == False:\n",
    "            self.graph.append([u, v, w])\n",
    "            self.graph.append([v, u, w])\n",
    "            self.adjMatrix[u][v] = 1\n",
    "            self.adjMatrix[v][u] = 1\n",
    "        else:\n",
    "            self.graph.append([u, v, w])\n",
    "            self.adjMatrix[u][v] = 1\n",
    "    \n",
    "    def bellmanFord(self, src):\n",
    "        '''\n",
    "        Computes the shortest distance from each vertex to the \n",
    "        source vertex via the Bellman-Ford algorithm.\n",
    "\n",
    "        Parameters\n",
    "        ----------\n",
    "        u : int, source vertex\n",
    "            \n",
    "        Returns\n",
    "        -------\n",
    "        dist : List, shortest paths from each vertex to the source\n",
    "        '''\n",
    "\n",
    "        # Initialise\n",
    "        dist = [float(\"Inf\")] * self.V\n",
    "        dist[src] = 0\n",
    "\n",
    "        # Iterate\n",
    "        for _ in range(self.V - 1):\n",
    "            terminate = True\n",
    "            for u, v, w in self.graph:\n",
    "                if dist[v] != float(\"Inf\") and dist[v] + w < dist[u]:\n",
    "                    terminate = False\n",
    "                    dist[u] = dist[v] + w\n",
    "            if terminate == True:\n",
    "                break\n",
    "        return dist"
   ]
  },
  {
   "cell_type": "code",
   "execution_count": 39,
   "metadata": {},
   "outputs": [],
   "source": [
    "class Solution:\n",
    "    '''\n",
    "    Class to solve the following problem:\n",
    "    \n",
    "    A state consists of N cities numbered from 0 to N-1. All the roads in the state are bidirectional. Each city is connected to another city by one direct road only. A magician travels to these cities to perform shows. He knows a magic spell that can completely eliminate the distance between any two directly connected cities. But he must be very careful because this magic spell can be performed only K number of times.\n",
    "\n",
    "    Write an algorithm to find the length of the shortest route between two given cities after performing the magic spell K number of times. The output is -1 if no path exists.\n",
    "    '''\n",
    "    def __init__(self):\n",
    "        self.answer = None\n",
    "    \n",
    "    def magician(self, N: int, A: int, B: int, K: int, P) -> int:\n",
    "        '''\n",
    "        Return solution to the magician problem.\n",
    "        Parameters\n",
    "        ----------\n",
    "        N : int, number of cities\n",
    "        A : int, source city\n",
    "        B : int, target city\n",
    "        K : int, number of spells\n",
    "        P : List[e = List[int]], list between bidirectional edge between e[0] and e[1] with weight e[2]\n",
    "                \n",
    "        Returns\n",
    "        -------\n",
    "        dp(A,B,K,N) : int, total weight of the shortest path between A and B after performing K spells\n",
    "        '''\n",
    "        g = Graph(N)\n",
    "        for x in P:\n",
    "            g.addEdge(x[0],x[1],x[2])\n",
    "        \n",
    "        @functools.lru_cache(maxsize=None)\n",
    "        def dp(i,j,k,n):\n",
    "            if k == 0: # Base case\n",
    "                return g.bellmanFord(i)[j] # Minimum cost from i to j without using spells\n",
    "            else:\n",
    "                path = dp(i,j,0,N)\n",
    "                for l in range(N):\n",
    "                    if g.adjMatrix[i][l] == 1 and n > 0:\n",
    "                        path = min( path, dp(l,j,k-1,n-1), dp(i,l,0,n-1) + dp(l,j,k,n-1)) # DP recurrence equation\n",
    "\n",
    "            return path\n",
    "        \n",
    "        self.answer = dp(A,B,K,N)\n",
    "        "
   ]
  },
  {
   "cell_type": "code",
   "execution_count": 48,
   "metadata": {},
   "outputs": [
    {
     "data": {
      "text/plain": [
       "7"
      ]
     },
     "execution_count": 48,
     "metadata": {},
     "output_type": "execute_result"
    }
   ],
   "source": [
    "s2 = Solution()\n",
    "g = Graph(5,False)\n",
    "for x in paths:\n",
    "    g.addEdge(x[0],x[1],x[2])\n",
    "s2.magician(5,0,3,0,paths)\n",
    "s2.answer       \n",
    "g.bellmanFord(0)[3]"
   ]
  },
  {
   "cell_type": "code",
   "execution_count": 42,
   "metadata": {},
   "outputs": [
    {
     "data": {
      "text/plain": [
       "1"
      ]
     },
     "execution_count": 42,
     "metadata": {},
     "output_type": "execute_result"
    }
   ],
   "source": [
    "s = Solution()\n",
    "\n",
    "n = 5 \n",
    "src = 0\n",
    "trgt = 1\n",
    "spells = 1\n",
    "paths = [[0,1,1],[0,4,1],[1,2,2],[2,3,4],[4,3,7]]\n",
    "\n",
    "s.magician(5,0,3,1,paths)\n",
    "s.answer\n"
   ]
  },
  {
   "cell_type": "code",
   "execution_count": 13,
   "metadata": {},
   "outputs": [],
   "source": [
    "P = [[0,1,1],[0,4,1],[1,2,2],[2,3,4],[4,3,7]]\n",
    "g = Graph(5,False)\n",
    "for x in P:\n",
    "    g.addEdge(x[0],x[1],x[2])\n",
    "assert(g.bellmanFord(0) == [0, 1, 3, 7, 1])"
   ]
  },
  {
   "cell_type": "code",
   "execution_count": 16,
   "metadata": {},
   "outputs": [
    {
     "data": {
      "text/plain": [
       "[0, 1, 2, 8, 4]"
      ]
     },
     "execution_count": 16,
     "metadata": {},
     "output_type": "execute_result"
    }
   ],
   "source": [
    "g = Graph(5,True)\n",
    "g.addEdge(1,0,1)\n",
    "g.addEdge(2,0,3)\n",
    "g.addEdge(1,2,2)\n",
    "g.addEdge(2,1,1)\n",
    "g.addEdge(3,1,8)\n",
    "g.addEdge(4,2,2)\n",
    "g.addEdge(3,4,4)\n",
    "g.addEdge(4,3,2)\n",
    "\n",
    "g.bellmanFord(0)"
   ]
  },
  {
   "cell_type": "code",
   "execution_count": null,
   "metadata": {},
   "outputs": [],
   "source": []
  }
 ],
 "metadata": {
  "kernelspec": {
   "display_name": "statisticalLearning",
   "language": "python",
   "name": "python3"
  },
  "language_info": {
   "codemirror_mode": {
    "name": "ipython",
    "version": 3
   },
   "file_extension": ".py",
   "mimetype": "text/x-python",
   "name": "python",
   "nbconvert_exporter": "python",
   "pygments_lexer": "ipython3",
   "version": "3.11.5"
  },
  "orig_nbformat": 4
 },
 "nbformat": 4,
 "nbformat_minor": 2
}
