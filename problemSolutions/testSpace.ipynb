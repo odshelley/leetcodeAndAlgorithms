{
 "cells": [
  {
   "cell_type": "code",
   "execution_count": 80,
   "metadata": {},
   "outputs": [],
   "source": [
    "import functools \n",
    "\n",
    "class Graph:\n",
    "    def __init__(self, vertices):\n",
    "        self.V = vertices  # No. of vertices\n",
    "        self.graph = []\n",
    "\n",
    "        self.adjMatrix = []\n",
    "        for _ in range(vertices):\n",
    "            self.adjMatrix.append([0 for __ in range(vertices)])\n",
    " \n",
    "    def addEdge(self, u, v, w):\n",
    "        self.graph.append([u, v, w])\n",
    "        self.adjMatrix[u][v] = 1\n",
    "        self.adjMatrix[v][u] = 1\n",
    "    \n",
    "    def BellmanFord(self, src):\n",
    "        dist = [float(\"Inf\")] * self.V\n",
    "        dist[src] = 0\n",
    "        for _ in range(self.V - 1):\n",
    "            for u, v, w in self.graph:\n",
    "                if dist[u] != float(\"Inf\") and dist[u] + w < dist[v]:\n",
    "                    dist[v] = dist[u] + w\n",
    "        return dist\n",
    "\n",
    "def solution(N,A,B,K,paths):\n",
    "    g = Graph(N)\n",
    "    for x in paths:\n",
    "        g.addEdge(x[0],x[1],x[2])\n",
    "    \n",
    "    @functools.lru_cache(maxsize=None)\n",
    "    def dp(i,j,k,n):\n",
    "        bellman = g.BellmanFord(i)[j]\n",
    "        if k == 0:\n",
    "            return bellman\n",
    "        else:\n",
    "            path = bellman\n",
    "            for l in range(N):\n",
    "                if g.adjMatrix[i][l] == 1 and n > 0:\n",
    "                    path = min( path, dp(l,j,k-1,n-1), dp(i,l,0,n-1) + dp(l,j,k,n-1))\n",
    "\n",
    "        return path\n",
    "    \n",
    "    return dp(A,B,K,N-1)\n",
    "    \n",
    "        "
   ]
  },
  {
   "attachments": {},
   "cell_type": "markdown",
   "metadata": {},
   "source": [
    "Definition 4.3. The shortest $(h)$ walk is defined to be,\n",
    "$$\n",
    "D_i^{(h)}:=\\left\\{\\begin{array}{l}\n",
    "\\text { shortest path containing at most } h \\text { arcs from node } i \\text { to node } 1, \\\\\n",
    "\\text { passing through node } 1 \\text { once. }\n",
    "\\end{array}\\right.\n",
    "$$\n",
    "\n",
    "We may now state the algorithm.\n",
    "\n",
    "Algorithm 4.4. Initialise for $i \\in V$ and denote $d_{i, j}:=\\infty$ for $(i, j) \\notin A$. Let:\n",
    "$$\n",
    "\\begin{aligned}\n",
    "& D_1^{(h)}:=0, \\quad \\forall h \\geq 0 . \\\\\n",
    "& D_i^{(0)}:=\\infty, \\quad \\forall i \\neq 1 \\text {. } \\\\\n",
    "&\n",
    "\\end{aligned}\n",
    "$$\n",
    "\n",
    "\n",
    "For $h=0$ up to $N-1 d o$,\n",
    "$$\n",
    "D_i^{(h+1)}:=\\min _j\\left[D_j^{(h)}+d_{i, j}\\right], \\quad \\forall i \\neq 1 .\n",
    "$$\n",
    "\n",
    "The algorithm terminates when\n",
    "$$\n",
    "D_i^{(h)}=D_i^{(h-1)} \\text { for all } i\n",
    "$$"
   ]
  },
  {
   "cell_type": "code",
   "execution_count": 81,
   "metadata": {},
   "outputs": [
    {
     "data": {
      "text/plain": [
       "1"
      ]
     },
     "execution_count": 81,
     "metadata": {},
     "output_type": "execute_result"
    }
   ],
   "source": [
    "P = [[0,1,1],[0,4,1],[1,2,2],[2,3,4],[4,3,7]]\n",
    "solution(5,0,3,1,P) "
   ]
  }
 ],
 "metadata": {
  "kernelspec": {
   "display_name": "statisticalLearning",
   "language": "python",
   "name": "python3"
  },
  "language_info": {
   "codemirror_mode": {
    "name": "ipython",
    "version": 3
   },
   "file_extension": ".py",
   "mimetype": "text/x-python",
   "name": "python",
   "nbconvert_exporter": "python",
   "pygments_lexer": "ipython3",
   "version": "3.11.4"
  },
  "orig_nbformat": 4
 },
 "nbformat": 4,
 "nbformat_minor": 2
}
