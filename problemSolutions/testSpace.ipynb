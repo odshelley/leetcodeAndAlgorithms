{
 "cells": [
  {
   "cell_type": "code",
   "execution_count": 1,
   "metadata": {},
   "outputs": [],
   "source": [
    "import numpy as np\n",
    "import collections"
   ]
  },
  {
   "cell_type": "code",
   "execution_count": 11,
   "metadata": {},
   "outputs": [
    {
     "data": {
      "text/plain": [
       "[(6, 1), (2, 1), (4, 2)]"
      ]
     },
     "execution_count": 11,
     "metadata": {},
     "output_type": "execute_result"
    }
   ],
   "source": [
    "c = collections.Counter([1,1,1,1,1,1,2,3,3,4,4,5,5,5,6])\n",
    "c.most_common()[:-3-1:-1]\n"
   ]
  },
  {
   "cell_type": "code",
   "execution_count": 13,
   "metadata": {},
   "outputs": [
    {
     "data": {
      "text/plain": [
       "{'a', 'b', 'c'}"
      ]
     },
     "execution_count": 13,
     "metadata": {},
     "output_type": "execute_result"
    }
   ],
   "source": [
    "set('abc'.lower())"
   ]
  },
  {
   "cell_type": "code",
   "execution_count": 85,
   "metadata": {},
   "outputs": [],
   "source": [
    "def solution(letters):\n",
    "    \n",
    "    letterDict = {}\n",
    "    for x in letters:\n",
    "        if x not in letterDict:\n",
    "            letterDict[x] = 1\n",
    "        else:\n",
    "            letterDict[x] += 1\n",
    "    letterSet = set(letters.lower())\n",
    "    print(letterDict)\n",
    "\n",
    "    count = 0\n",
    "    for letter in letterSet:\n",
    "        print(letter)\n",
    "        if letterDict[letter] == letterDict[letter.capitalize()]:\n",
    "            count += 1\n",
    "            \n",
    "    return count "
   ]
  },
  {
   "cell_type": "code",
   "execution_count": 86,
   "metadata": {},
   "outputs": [
    {
     "name": "stdout",
     "output_type": "stream",
     "text": [
      "{'a': 1, 'A': 1, 'b': 1, 'B': 1, 'c': 3, 'C': 1}\n",
      "c\n",
      "a\n",
      "b\n"
     ]
    },
    {
     "data": {
      "text/plain": [
       "2"
      ]
     },
     "execution_count": 86,
     "metadata": {},
     "output_type": "execute_result"
    }
   ],
   "source": [
    "solution('aAbBcCcc')"
   ]
  },
  {
   "cell_type": "code",
   "execution_count": 146,
   "metadata": {},
   "outputs": [],
   "source": [
    "def solution(letters):\n",
    "\n",
    "    N = len(letters)\n",
    "    p1 = 0\n",
    "    total = 0\n",
    "\n",
    "    while p1 < len(letters):\n",
    "\n",
    "        if letters[p1].isupper():\n",
    "            # current position of upper case letter\n",
    "            currentUpper = p1 \n",
    "            # move p1 to the next lower case letter or the end of letters\n",
    "            while p1 < N and letters[p1].isupper():\n",
    "                p1 += 1\n",
    "            # the length of the substring of uppercase letters\n",
    "            amount = p1 - currentUpper \n",
    "\n",
    "            count = 0\n",
    "            p2 = currentUpper\n",
    "\n",
    "            for idx in range(max(0,currentUpper-amount),currentUpper):\n",
    "                # if the letter 'amount' steps behind letter[p2] is letter[p2].lower()\n",
    "                # we update the counter and move p2 to the next position\n",
    "                if letters[idx] == letters[p2].lower():\n",
    "                    count += 1\n",
    "                    p2 += 1\n",
    "                # if the letter 'amount' steps behind letter[p2] is not letter[p2].lower()\n",
    "                # we set the counter back to zero and move p2 back to position currentUpper\n",
    "                else:\n",
    "                    p2 = currentUpper\n",
    "                    count = 0\n",
    "            # We update the total \n",
    "            total += count\n",
    "\n",
    "        p1 += 1\n",
    "\n",
    "    return total "
   ]
  },
  {
   "cell_type": "code",
   "execution_count": 150,
   "metadata": {},
   "outputs": [
    {
     "data": {
      "text/plain": [
       "2"
      ]
     },
     "execution_count": 150,
     "metadata": {},
     "output_type": "execute_result"
    }
   ],
   "source": [
    "solution('abGcABCXaaAAAv')\n"
   ]
  },
  {
   "cell_type": "code",
   "execution_count": null,
   "metadata": {},
   "outputs": [],
   "source": [
    "def solution(letters):\n",
    "\n",
    "    N = len(letters)\n",
    "    p1 = 0\n",
    "    total = 0\n",
    "\n",
    "    while p1 < len(letters):\n",
    "\n",
    "        if letters[p1].isupper():\n",
    "            currentUpper = p1 \n",
    "            while p1 < N and letters[p1].isupper():\n",
    "                p1 += 1\n",
    "\n",
    "            amount = p1 - currentUpper \n",
    "            p2 = currentUpper\n",
    "            count = 0\n",
    "\n",
    "            for idx in range(max(0,currentUpper-amount),currentUpper):\n",
    "                if letters[idx] == letters[p2].lower():\n",
    "                    count += 1\n",
    "                    p2 += 1\n",
    "                else:\n",
    "                    p2 = currentUpper\n",
    "                    count = 0\n",
    "                    \n",
    "            total += count\n",
    "\n",
    "        p1 += 1\n",
    "\n",
    "    return total "
   ]
  },
  {
   "cell_type": "code",
   "execution_count": 81,
   "metadata": {},
   "outputs": [],
   "source": [
    "def solution(letters):\n",
    "    \n",
    "    lowerCase = []\n",
    "    upperCase = []\n",
    "    count = 0\n",
    "    \n",
    "    for i,x in enumerate(letters):\n",
    "        if x.islower():\n",
    "            lowerCase.append(x)\n",
    "        if x.isupper():\n",
    "            upperCase.append(x)\n",
    "        if letters[i].isupper() and letters[i+1].islower():\n",
    "            lowerCase = lowerCase[len(lower)]\n",
    "            for j in range(len(upperCase)):\n",
    "                if lowerCase[j] == upperCase[j]:\n",
    "                    count += 1\n",
    "            lowerCase = []\n",
    "            upperCase = []\n",
    "    \n",
    "    return count"
   ]
  },
  {
   "cell_type": "code",
   "execution_count": 82,
   "metadata": {},
   "outputs": [
    {
     "ename": "IndexError",
     "evalue": "list index out of range",
     "output_type": "error",
     "traceback": [
      "\u001b[0;31m---------------------------------------------------------------------------\u001b[0m",
      "\u001b[0;31mIndexError\u001b[0m                                Traceback (most recent call last)",
      "\u001b[0;32m/var/folders/pr/17s5kwdj30zgkzxjrjrpr8fm0000gn/T/ipykernel_67239/1847024963.py\u001b[0m in \u001b[0;36m<module>\u001b[0;34m\u001b[0m\n\u001b[0;32m----> 1\u001b[0;31m \u001b[0msolution\u001b[0m\u001b[0;34m(\u001b[0m \u001b[0;34m'aaAbcCABBc'\u001b[0m\u001b[0;34m)\u001b[0m\u001b[0;34m\u001b[0m\u001b[0;34m\u001b[0m\u001b[0m\n\u001b[0m",
      "\u001b[0;32m/var/folders/pr/17s5kwdj30zgkzxjrjrpr8fm0000gn/T/ipykernel_67239/729628153.py\u001b[0m in \u001b[0;36msolution\u001b[0;34m(letters)\u001b[0m\n\u001b[1;32m     13\u001b[0m \u001b[0;34m\u001b[0m\u001b[0m\n\u001b[1;32m     14\u001b[0m             \u001b[0;32mfor\u001b[0m \u001b[0mj\u001b[0m \u001b[0;32min\u001b[0m \u001b[0mrange\u001b[0m\u001b[0;34m(\u001b[0m\u001b[0mlen\u001b[0m\u001b[0;34m(\u001b[0m\u001b[0mupperCase\u001b[0m\u001b[0;34m)\u001b[0m\u001b[0;34m)\u001b[0m\u001b[0;34m:\u001b[0m\u001b[0;34m\u001b[0m\u001b[0;34m\u001b[0m\u001b[0m\n\u001b[0;32m---> 15\u001b[0;31m                 \u001b[0;32mif\u001b[0m \u001b[0mlowerCase\u001b[0m\u001b[0;34m[\u001b[0m\u001b[0mj\u001b[0m\u001b[0;34m]\u001b[0m \u001b[0;34m==\u001b[0m \u001b[0mupperCase\u001b[0m\u001b[0;34m[\u001b[0m\u001b[0mj\u001b[0m\u001b[0;34m]\u001b[0m\u001b[0;34m:\u001b[0m\u001b[0;34m\u001b[0m\u001b[0;34m\u001b[0m\u001b[0m\n\u001b[0m\u001b[1;32m     16\u001b[0m                     \u001b[0mcount\u001b[0m \u001b[0;34m+=\u001b[0m \u001b[0;36m1\u001b[0m\u001b[0;34m\u001b[0m\u001b[0;34m\u001b[0m\u001b[0m\n\u001b[1;32m     17\u001b[0m             \u001b[0mlowerCase\u001b[0m \u001b[0;34m=\u001b[0m \u001b[0;34m[\u001b[0m\u001b[0;34m]\u001b[0m\u001b[0;34m\u001b[0m\u001b[0;34m\u001b[0m\u001b[0m\n",
      "\u001b[0;31mIndexError\u001b[0m: list index out of range"
     ]
    }
   ],
   "source": [
    "solution( 'aaAbcCABBc')"
   ]
  },
  {
   "cell_type": "code",
   "execution_count": null,
   "metadata": {},
   "outputs": [],
   "source": []
  }
 ],
 "metadata": {
  "kernelspec": {
   "display_name": "statisticalLearning",
   "language": "python",
   "name": "python3"
  },
  "language_info": {
   "codemirror_mode": {
    "name": "ipython",
    "version": 3
   },
   "file_extension": ".py",
   "mimetype": "text/x-python",
   "name": "python",
   "nbconvert_exporter": "python",
   "pygments_lexer": "ipython3",
   "version": "3.9.13"
  },
  "orig_nbformat": 4
 },
 "nbformat": 4,
 "nbformat_minor": 2
}
