{
 "cells": [
  {
   "attachments": {},
   "cell_type": "markdown",
   "metadata": {},
   "source": [
    "## MergeSort\n",
    "***"
   ]
  },
  {
   "cell_type": "code",
   "execution_count": 14,
   "metadata": {},
   "outputs": [
    {
     "data": {
      "text/plain": [
       "[1, 2, 2, 2, 3, 5]"
      ]
     },
     "execution_count": 14,
     "metadata": {},
     "output_type": "execute_result"
    }
   ],
   "source": [
    "def mergeSort(arr):\n",
    "\n",
    "    if len(arr) > 1:\n",
    "\n",
    "        mid = len(arr)//2\n",
    "        L = arr[:mid]\n",
    "        R = arr[mid:]\n",
    "\n",
    "        mergeSort(L)\n",
    "        mergeSort(R)\n",
    "\n",
    "        i = j = k = 0\n",
    "\n",
    "        while (i < len(L)) and (j < len(R)):\n",
    "            if L[i] <= R[j]:\n",
    "                arr[k] = L[i]\n",
    "                i += 1\n",
    "            else:\n",
    "                arr[k] = R[j]\n",
    "                j += 1 \n",
    "            k += 1\n",
    "        \n",
    "        while i < len(L):\n",
    "            arr[k] = L[i]\n",
    "            i += 1 \n",
    "            k += 1\n",
    "\n",
    "        while j < len(R):\n",
    "            arr[k] = R[j]\n",
    "            j += 1 \n",
    "            k += 1\n",
    "\n",
    "A = [5,2,3,1,2,2]\n",
    "mergeSort(A)\n",
    "A\n"
   ]
  },
  {
   "attachments": {},
   "cell_type": "markdown",
   "metadata": {},
   "source": [
    "## Bubble Sort\n",
    "***"
   ]
  },
  {
   "cell_type": "code",
   "execution_count": 15,
   "metadata": {},
   "outputs": [
    {
     "data": {
      "text/plain": [
       "[1, 2, 3, 5]"
      ]
     },
     "execution_count": 15,
     "metadata": {},
     "output_type": "execute_result"
    }
   ],
   "source": [
    "def bubbleSort(arr):\n",
    "    for i in range(0,len(arr)-1):\n",
    "\n",
    "        toBreak = True\n",
    "\n",
    "        for j in range(i+1,len(arr)):\n",
    "            if arr[i] > arr[j]:\n",
    "                arr[i],arr[j] = arr[j],arr[i]\n",
    "                toBreak = False\n",
    "\n",
    "        if toBreak == True:\n",
    "            break\n",
    "        \n",
    "A = [3,2,5,1]\n",
    "bubbleSort(A)\n",
    "A"
   ]
  }
 ],
 "metadata": {
  "kernelspec": {
   "display_name": "elementsOfProgramming",
   "language": "python",
   "name": "python3"
  },
  "language_info": {
   "codemirror_mode": {
    "name": "ipython",
    "version": 3
   },
   "file_extension": ".py",
   "mimetype": "text/x-python",
   "name": "python",
   "nbconvert_exporter": "python",
   "pygments_lexer": "ipython3",
   "version": "3.11.5"
  },
  "orig_nbformat": 4
 },
 "nbformat": 4,
 "nbformat_minor": 2
}
