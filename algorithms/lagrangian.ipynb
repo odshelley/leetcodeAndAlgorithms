{
 "cells": [
  {
   "cell_type": "code",
   "execution_count": 1,
   "metadata": {},
   "outputs": [],
   "source": [
    "import numpy as np\n",
    "from sympy import *\n",
    "from sympy.solvers.solveset import linsolve\n",
    "from sympy import init_printing"
   ]
  },
  {
   "cell_type": "code",
   "execution_count": 27,
   "metadata": {},
   "outputs": [
    {
     "data": {
      "text/latex": [
       "$\\displaystyle \\frac{12 \\sqrt{29}}{29}$"
      ],
      "text/plain": [
       "12*sqrt(29)/29"
      ]
     },
     "execution_count": 27,
     "metadata": {},
     "output_type": "execute_result"
    }
   ],
   "source": [
    "x,y,z,l = symbols('x,y,z,l')\n",
    "s = linsolve(Matrix(([2, 0, 0, 2, 0],\n",
    "                     [0, 2, 0, 3, 0],\n",
    "                     [0, 0, 2, 4, 0],\n",
    "                     [2, 3, 4, 0, -12])), \n",
    "                     (x, y, z, l)\n",
    "    )\n",
    "f = lambda a,b,c : sqrt(a**2 + b**2 + c**2)\n",
    "f(s.args[0][0],s.args[0][1],s.args[0][2])"
   ]
  },
  {
   "cell_type": "code",
   "execution_count": null,
   "metadata": {},
   "outputs": [],
   "source": []
  }
 ],
 "metadata": {
  "kernelspec": {
   "display_name": "statisticalLearning",
   "language": "python",
   "name": "python3"
  },
  "language_info": {
   "codemirror_mode": {
    "name": "ipython",
    "version": 3
   },
   "file_extension": ".py",
   "mimetype": "text/x-python",
   "name": "python",
   "nbconvert_exporter": "python",
   "pygments_lexer": "ipython3",
   "version": "3.11.4"
  },
  "orig_nbformat": 4
 },
 "nbformat": 4,
 "nbformat_minor": 2
}
